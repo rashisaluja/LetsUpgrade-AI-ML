{
 "cells": [
  {
   "cell_type": "code",
   "execution_count": 6,
   "metadata": {},
   "outputs": [
    {
     "name": "stdout",
     "output_type": "stream",
     "text": [
      "Addition of  (2+3j)  and  (1+2j)  is:  (3+5j)\n",
      "Subtraction of  (2+3j)  and  (1+2j)  is:  (1+1j)\n",
      "Multiplication of  (2+3j)  and  (1+2j)  is:  (-4+7j)\n",
      "Division of  (2+3j)  and  (1+2j)  is:  (1.6-0.2j)\n",
      "\n",
      "NOTE:-\n",
      "Floor division and modulo operators can't be applied on complex numbers.\n"
     ]
    }
   ],
   "source": [
    "# Question 1 :\n",
    "# Research on whether addition, subtraction, multiplication, division, floor division and modulo\n",
    "# operations be performed on complex numbers. Based on your study, implement a Python\n",
    "# program to demonstrate these operations.\n",
    "\n",
    "a = 2+3j\n",
    "b = 1+2j\n",
    "print(\"Addition of \",a,\" and \",b,\" is: \",a+b)\n",
    "print(\"Subtraction of \",a,\" and \",b,\" is: \",a-b)\n",
    "print(\"Multiplication of \",a,\" and \",b,\" is: \",a*b)\n",
    "print(\"Division of \",a,\" and \",b,\" is: \",a/b)\n",
    "print(\"\\nNOTE:-\\nFloor division and modulo operators can't be applied on complex numbers.\")"
   ]
  },
  {
   "cell_type": "markdown",
   "metadata": {},
   "source": [
    "# Question 2 :\n",
    "\n",
    " Research on range() functions and its parameters. Create a markdown cell and write in your own\n",
    " words (no copy-paste from google please) what you understand about it. Implement a small\n",
    " program of your choice on the same.\n",
    " \n",
    " ## range() :\n",
    " \n",
    " range() function returns a list or a sequence of numbers according to the parameters specified.\n",
    " \n",
    " It can have upto three parameters: start_value, stop_value and step_value.\n",
    " \n",
    " start_value : where to start from\n",
    " \n",
    " stop_value : where to stop\n",
    " \n",
    " step_value : how many places to skip(step on)\n",
    " \n",
    "\n"
   ]
  },
  {
   "cell_type": "code",
   "execution_count": 8,
   "metadata": {},
   "outputs": [
    {
     "name": "stdout",
     "output_type": "stream",
     "text": [
      "1\n",
      "3\n",
      "5\n",
      "7\n",
      "9\n"
     ]
    }
   ],
   "source": [
    "for i in range(1,10,2):\n",
    "    print(i)"
   ]
  },
  {
   "cell_type": "code",
   "execution_count": 10,
   "metadata": {},
   "outputs": [
    {
     "name": "stdout",
     "output_type": "stream",
     "text": [
      "Multiplication:  4000\n"
     ]
    }
   ],
   "source": [
    "# Question 3:\n",
    "# Consider two numbers. Perform their subtraction and if the result of subtraction is greater than\n",
    "# 25, print their multiplication result else print their division result.\n",
    "\n",
    "a = 100\n",
    "b = 40\n",
    "if a-b > 25:\n",
    "    print(\"Multiplication: \",a*b)\n",
    "else:\n",
    "    print(\"Division: \",a/b)"
   ]
  },
  {
   "cell_type": "code",
   "execution_count": 11,
   "metadata": {},
   "outputs": [
    {
     "name": "stdout",
     "output_type": "stream",
     "text": [
      "Square of  2  minus 2 is  2\n",
      "Square of  4  minus 2 is  14\n",
      "Square of  6  minus 2 is  34\n",
      "Square of  8  minus 2 is  62\n",
      "Square of  10  minus 2 is  98\n"
     ]
    }
   ],
   "source": [
    "# Question 4:\n",
    "# Consider a list of 10 elements of integer values. If the number in the list is divisible by 2, print the\n",
    "# result as \"square of that number minus 2\".\n",
    "\n",
    "a = [1,2,3,4,5,6,7,8,9,10]\n",
    "for i in a:\n",
    "    if i%2 == 0:\n",
    "        print(\"Square of \",i,\" minus 2 is \",i**2-2)\n",
    "        "
   ]
  },
  {
   "cell_type": "code",
   "execution_count": 12,
   "metadata": {},
   "outputs": [
    {
     "name": "stdout",
     "output_type": "stream",
     "text": [
      "16\n",
      "20\n",
      "24\n",
      "28\n",
      "32\n",
      "36\n",
      "40\n"
     ]
    }
   ],
   "source": [
    "# Question 5:\n",
    "# Consider a list of 10 elements. Print all the elements in the list which are greater than 7 when that\n",
    "# number is divided 2.\n",
    "\n",
    "a = [4,8,12,16,20,24,28,32,36,40]\n",
    "for i in range(len(a)):\n",
    "    if a[i]/2 > 7:\n",
    "        print(a[i])"
   ]
  }
 ],
 "metadata": {
  "kernelspec": {
   "display_name": "Python 3",
   "language": "python",
   "name": "python3"
  },
  "language_info": {
   "codemirror_mode": {
    "name": "ipython",
    "version": 3
   },
   "file_extension": ".py",
   "mimetype": "text/x-python",
   "name": "python",
   "nbconvert_exporter": "python",
   "pygments_lexer": "ipython3",
   "version": "3.7.4"
  }
 },
 "nbformat": 4,
 "nbformat_minor": 2
}
