{
 "cells": [
  {
   "cell_type": "markdown",
   "metadata": {},
   "source": [
    "# 1. Create a 3x3x3 array with random values "
   ]
  },
  {
   "cell_type": "code",
   "execution_count": 2,
   "metadata": {},
   "outputs": [
    {
     "data": {
      "text/plain": [
       "array([[[0.88494759, 0.78602689, 0.89195172],\n",
       "        [0.36509415, 0.28607772, 0.72176047],\n",
       "        [0.31241241, 0.63190091, 0.2308009 ]],\n",
       "\n",
       "       [[0.46197128, 0.03768328, 0.37507802],\n",
       "        [0.01236577, 0.3593783 , 0.27009088],\n",
       "        [0.59364573, 0.0482952 , 0.52238143]],\n",
       "\n",
       "       [[0.27773254, 0.36652726, 0.78024794],\n",
       "        [0.53462434, 0.14579928, 0.39749963],\n",
       "        [0.81881859, 0.12198502, 0.83949837]]])"
      ]
     },
     "execution_count": 2,
     "metadata": {},
     "output_type": "execute_result"
    }
   ],
   "source": [
    "import numpy as np\n",
    "a = np.random.random([3,3,3])\n",
    "a"
   ]
  },
  {
   "cell_type": "markdown",
   "metadata": {},
   "source": [
    "# 2.Create a 5x5 matrix with values 1,2,3,4 just below the diagonal"
   ]
  },
  {
   "cell_type": "code",
   "execution_count": 8,
   "metadata": {},
   "outputs": [
    {
     "data": {
      "text/plain": [
       "array([[0, 0, 0, 0, 0],\n",
       "       [1, 0, 0, 0, 0],\n",
       "       [0, 2, 0, 0, 0],\n",
       "       [0, 0, 3, 0, 0],\n",
       "       [0, 0, 0, 4, 0]])"
      ]
     },
     "execution_count": 8,
     "metadata": {},
     "output_type": "execute_result"
    }
   ],
   "source": [
    "c = np.diag(1+np.arange(4),-1)\n",
    "c"
   ]
  },
  {
   "cell_type": "markdown",
   "metadata": {},
   "source": [
    "# 3.Create a 8x8 matrix and fill it with a checkerboard pattern"
   ]
  },
  {
   "cell_type": "code",
   "execution_count": 17,
   "metadata": {},
   "outputs": [
    {
     "data": {
      "text/plain": [
       "array([[1., 0., 1., 0., 1., 0., 1., 0.],\n",
       "       [0., 1., 0., 1., 0., 1., 0., 1.],\n",
       "       [1., 0., 1., 0., 1., 0., 1., 0.],\n",
       "       [0., 1., 0., 1., 0., 1., 0., 1.],\n",
       "       [1., 0., 1., 0., 1., 0., 1., 0.],\n",
       "       [0., 1., 0., 1., 0., 1., 0., 1.],\n",
       "       [1., 0., 1., 0., 1., 0., 1., 0.],\n",
       "       [0., 1., 0., 1., 0., 1., 0., 1.]])"
      ]
     },
     "execution_count": 17,
     "metadata": {},
     "output_type": "execute_result"
    }
   ],
   "source": [
    "b = np.zeros((8,8))\n",
    "b[::2,::2]=1\n",
    "b[1::2,1::2]=1\n",
    "b"
   ]
  },
  {
   "cell_type": "markdown",
   "metadata": {},
   "source": [
    "# 4. Normalize a 5x5 random matrix"
   ]
  },
  {
   "cell_type": "code",
   "execution_count": 31,
   "metadata": {},
   "outputs": [
    {
     "name": "stdout",
     "output_type": "stream",
     "text": [
      "Original Array:\n",
      "[[0.68737435 0.50440363 0.07963524]\n",
      " [0.21773666 0.95046026 0.81938624]\n",
      " [0.74159853 0.54903607 0.94234287]]\n",
      "After normalization:\n",
      "[[0.69788889 0.48777697 0.        ]\n",
      " [0.15858687 1.         0.84948293]\n",
      " [0.76015648 0.53903002 0.9906785 ]]\n"
     ]
    }
   ],
   "source": [
    "arr= np.random.random((3,3))\n",
    "print(\"Original Array:\")\n",
    "print(arr)\n",
    "arrmax, arrmin = arr.max(), arr.min()\n",
    "arr = (arr - arrmin)/(arrmax - arrmin)\n",
    "print(\"After normalization:\")\n",
    "print(arr)"
   ]
  },
  {
   "cell_type": "markdown",
   "metadata": {},
   "source": [
    "# 5.  How to find common values between two arrays?"
   ]
  },
  {
   "cell_type": "code",
   "execution_count": 32,
   "metadata": {},
   "outputs": [
    {
     "name": "stdout",
     "output_type": "stream",
     "text": [
      "[2 3 5 9]\n"
     ]
    }
   ],
   "source": [
    "arr1 = np.array([[1,2,3],[4,5,6],[20,9,19]])\n",
    "arr2 = np.array([[5,7,8],[2,9,3]])\n",
    "print(np.intersect1d(arr1,arr2))"
   ]
  },
  {
   "cell_type": "markdown",
   "metadata": {},
   "source": [
    "# 6.How to get the dates of yesterday, today and tomorrow?"
   ]
  },
  {
   "cell_type": "code",
   "execution_count": 29,
   "metadata": {},
   "outputs": [
    {
     "name": "stdout",
     "output_type": "stream",
     "text": [
      "Today:  2020-07-28\n",
      "Yesterday:  2020-07-27\n",
      "Tomorrow:  2020-07-29\n"
     ]
    }
   ],
   "source": [
    "today = np.datetime64('today','D')\n",
    "print('Today: ',today)\n",
    "yesterday = np.datetime64('today','D')-np.timedelta64(1,'D')\n",
    "print('Yesterday: ',yesterday)\n",
    "tomorrow = np.datetime64('today','D')+np.timedelta64(1,'D')\n",
    "print('Tomorrow: ',tomorrow)"
   ]
  },
  {
   "cell_type": "markdown",
   "metadata": {},
   "source": [
    "# 7. Consider two random array A and B, check if they are equal"
   ]
  },
  {
   "cell_type": "code",
   "execution_count": 27,
   "metadata": {},
   "outputs": [
    {
     "name": "stdout",
     "output_type": "stream",
     "text": [
      "First array:\n",
      "[[0.30299998 0.7486911  0.89529964]\n",
      " [0.26251137 0.46824798 0.30016331]\n",
      " [0.96324767 0.09516078 0.32064911]]\n",
      "Second array:\n",
      "[[0.83561178 0.8196405  0.59288443]\n",
      " [0.94867336 0.18004307 0.49315824]\n",
      " [0.8235465  0.13609836 0.60255335]]\n",
      "False\n"
     ]
    }
   ],
   "source": [
    "arr1 = np.random.random([3,3])\n",
    "arr2 = np.random.random([3,3])\n",
    "print('First array:')\n",
    "print(arr1)\n",
    "print('Second array:')\n",
    "print(arr2)\n",
    "arr = np.allclose(arr1,arr2)\n",
    "print(arr)"
   ]
  },
  {
   "cell_type": "markdown",
   "metadata": {},
   "source": [
    "# 8.Create random vector of size 10 and replace the maximum value by 0 "
   ]
  },
  {
   "cell_type": "code",
   "execution_count": 39,
   "metadata": {},
   "outputs": [
    {
     "name": "stdout",
     "output_type": "stream",
     "text": [
      "[0.42001087 0.64167222 0.20997295 0.80747088 0.12405348 0.8504486\n",
      " 0.21130086 0.99279772 0.11254598 0.58767259]\n",
      "[0.42001087 0.64167222 0.20997295 0.80747088 0.12405348 0.8504486\n",
      " 0.21130086 0.         0.11254598 0.58767259]\n"
     ]
    }
   ],
   "source": [
    "a = np.random.random([10])\n",
    "print(a)\n",
    "a[a.argmax()]=0\n",
    "print(a)"
   ]
  },
  {
   "cell_type": "markdown",
   "metadata": {},
   "source": [
    "# 9. How to print all the values of an array?"
   ]
  },
  {
   "cell_type": "code",
   "execution_count": 42,
   "metadata": {},
   "outputs": [
    {
     "name": "stdout",
     "output_type": "stream",
     "text": [
      "[[0.5579666  0.5995667  0.14962737]\n",
      " [0.47880677 0.71730119 0.99740663]\n",
      " [0.678238   0.99439888 0.54408323]]\n"
     ]
    }
   ],
   "source": [
    "a = np.random.random([3,3])\n",
    "print(a)"
   ]
  },
  {
   "cell_type": "markdown",
   "metadata": {},
   "source": [
    "# 10.Subtract the mean of each row of a matrix"
   ]
  },
  {
   "cell_type": "code",
   "execution_count": 45,
   "metadata": {},
   "outputs": [
    {
     "name": "stdout",
     "output_type": "stream",
     "text": [
      "[[1 2 3]\n",
      " [4 5 6]]\n",
      "[[-1  0  1]\n",
      " [-1  0  1]]\n"
     ]
    }
   ],
   "source": [
    "a = np.array([[1,2,3],[4,5,6]])\n",
    "print(a)\n",
    "m = 0\n",
    "for i in range(len(a)) :\n",
    "    m = a[i,:].mean()\n",
    "    a[i,:] = a[i,:]- m\n",
    "print(a)    "
   ]
  },
  {
   "cell_type": "markdown",
   "metadata": {},
   "source": [
    "# 11.Consider a given vector, how to add 1 to each element indexed by a second vector (be careful with repeated indices)? "
   ]
  },
  {
   "cell_type": "code",
   "execution_count": 46,
   "metadata": {
    "scrolled": true
   },
   "outputs": [
    {
     "name": "stdout",
     "output_type": "stream",
     "text": [
      "Z: [1. 1. 1. 1. 1. 1. 1. 1. 1. 1.]\n",
      "I: [1 4 2 3 7 1 7 5 9 3 4 0 5 9 4 0 3 1 8 1]\n",
      "[3. 5. 2. 4. 4. 3. 1. 3. 2. 3.]\n"
     ]
    }
   ],
   "source": [
    "Z = np.ones(10)\n",
    "print('Z:',Z)\n",
    "I = np.random.randint(0,len(Z),20)\n",
    "print('I:',I)\n",
    "Z += np.bincount(I, minlength=len(Z))\n",
    "print(Z)"
   ]
  },
  {
   "cell_type": "markdown",
   "metadata": {},
   "source": [
    "# 12.How to get the diagonal of a dot product?"
   ]
  },
  {
   "cell_type": "code",
   "execution_count": 49,
   "metadata": {},
   "outputs": [
    {
     "name": "stdout",
     "output_type": "stream",
     "text": [
      "[[0 8 0]\n",
      " [1 2 8]\n",
      " [6 9 7]]\n",
      "[[4 6 8]\n",
      " [4 5 7]\n",
      " [2 6 6]]\n",
      "[[ 32  40  56]\n",
      " [ 28  64  70]\n",
      " [ 74 123 153]]\n"
     ]
    },
    {
     "data": {
      "text/plain": [
       "array([ 32,  64, 153])"
      ]
     },
     "execution_count": 49,
     "metadata": {},
     "output_type": "execute_result"
    }
   ],
   "source": [
    "a = np.random.randint(0,10,(3,3))\n",
    "print(a)\n",
    "b = np.random.randint(0,10,(3,3))\n",
    "print(b)\n",
    "c = np.diag(np.dot(a,b))\n",
    "c"
   ]
  },
  {
   "cell_type": "markdown",
   "metadata": {},
   "source": [
    "# 13.How to find the most frequent value in an array?"
   ]
  },
  {
   "cell_type": "code",
   "execution_count": 50,
   "metadata": {},
   "outputs": [
    {
     "name": "stdout",
     "output_type": "stream",
     "text": [
      "[3 8 9 2 3 9 3 9 7 8]\n",
      "3\n"
     ]
    }
   ],
   "source": [
    "x = np.random.randint(1,10,10)\n",
    "print(x)\n",
    "print(np.bincount(x).argmax())"
   ]
  },
  {
   "cell_type": "markdown",
   "metadata": {},
   "source": [
    "# 14.How to get the n largest values of an array"
   ]
  },
  {
   "cell_type": "code",
   "execution_count": 58,
   "metadata": {},
   "outputs": [
    {
     "name": "stdout",
     "output_type": "stream",
     "text": [
      "Original array:\n",
      "[1 4 3 4 4]\n",
      "n = 2\n",
      "[4 4]\n"
     ]
    }
   ],
   "source": [
    "x = np.random.randint(1,5,5)\n",
    "print(\"Original array:\")\n",
    "print(x)\n",
    "n = 2\n",
    "print('n =',n)\n",
    "print (x[np.argsort(x)[-n:]])"
   ]
  },
  {
   "cell_type": "markdown",
   "metadata": {},
   "source": [
    "# 15.How to create a record array from a regular array?"
   ]
  },
  {
   "cell_type": "code",
   "execution_count": 53,
   "metadata": {},
   "outputs": [
    {
     "name": "stdout",
     "output_type": "stream",
     "text": [
      "[(1, 'Red', 12.2) (2, 'Green', 15. ) (3, 'White', 20. )\n",
      " (4, 'Orange', 40. )]\n"
     ]
    }
   ],
   "source": [
    "a1=np.array([1,2,3,4])\n",
    "a2=np.array(['Red','Green','White','Orange'])\n",
    "a3=np.array([12.20,15,20,40])\n",
    "\n",
    "result= np.core.records.fromarrays([a1, a2, a3])\n",
    "print(result)"
   ]
  },
  {
   "cell_type": "code",
   "execution_count": null,
   "metadata": {},
   "outputs": [],
   "source": []
  }
 ],
 "metadata": {
  "kernelspec": {
   "display_name": "Python 3",
   "language": "python",
   "name": "python3"
  },
  "language_info": {
   "codemirror_mode": {
    "name": "ipython",
    "version": 3
   },
   "file_extension": ".py",
   "mimetype": "text/x-python",
   "name": "python",
   "nbconvert_exporter": "python",
   "pygments_lexer": "ipython3",
   "version": "3.7.4"
  }
 },
 "nbformat": 4,
 "nbformat_minor": 2
}
