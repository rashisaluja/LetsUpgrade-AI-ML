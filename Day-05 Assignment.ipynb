{
 "cells": [
  {
   "cell_type": "code",
   "execution_count": 7,
   "metadata": {},
   "outputs": [
    {
     "name": "stdout",
     "output_type": "stream",
     "text": [
      "[3, 5, 7, 11, 13, 17, 19, 23, 29, 31, 37, 41, 43, 47, 53, 59, 61, 67, 71, 73]\n"
     ]
    }
   ],
   "source": [
    "# Question 1 :\n",
    "# Write a Python program to find the first 20 non-even prime natural numbers.\n",
    "\n",
    "\n",
    "li = [] # list to store non even prime natural numbers\n",
    "for i in range(2,100):\n",
    "    a = 1\n",
    "    for j in range(2,i):\n",
    "        if i%j == 0:\n",
    "            a = 0\n",
    "            break\n",
    "    if a == 1:  # if a is equal to 1 that means the number is prime\n",
    "        if i%2 != 0:\n",
    "            li.append(i)\n",
    "    if len(li) == 20: # only 20 numbers are asked\n",
    "        break\n",
    "print(li)"
   ]
  },
  {
   "cell_type": "code",
   "execution_count": 23,
   "metadata": {},
   "outputs": [
    {
     "name": "stdout",
     "output_type": "stream",
     "text": [
      "RASHI SALUJA @10102000\n",
      "rashi saluja @10102000\n",
      "False\n",
      "False\n",
      "False\n",
      "False\n",
      "False\n",
      "False\n",
      "False\n",
      "Rashi Saluja @10102000\n",
      "RashiSaluja@10102000\n",
      "15\n",
      "1\n",
      "rASHI sALUJA @10102000\n",
      "['Rashi', 'Saluja', '@10102000']\n"
     ]
    }
   ],
   "source": [
    "# Question 2 :\n",
    "# Write a Python program to implement 15 functions of string.\n",
    "\n",
    "str = 'Rashi Saluja @10102000'\n",
    "print(str.upper()) #coverts the string in upper case\n",
    "print(str.lower()) #coverts the string in lower case\n",
    "print(str.isalpha()) #checks if the string is alphabetic\n",
    "print(str.isalnum()) #checks if the string is alphanumeric\n",
    "print(str.isdecimal()) #checks if the string contains decimals\n",
    "print(str.isdigit()) #checks if the string contains numbers\n",
    "print(str.islower()) #checks if the string is in lower case\n",
    "print(str.isupper()) #checks if the string is in upper case\n",
    "print(str.isspace()) #checks if the string comtains only spaces\n",
    "print(str.strip()) #removes extra spaces from string\n",
    "print(str.replace(\" \",\"\")) #replaces acc to the parameters\n",
    "print(str.find('0')) #find the character in parameter\n",
    "print(str.index('a')) #find the index of parameter\n",
    "print(str.swapcase()) #swap cases\n",
    "print(str.split()) #splits the string acc to spaces"
   ]
  },
  {
   "cell_type": "code",
   "execution_count": 34,
   "metadata": {},
   "outputs": [
    {
     "name": "stdout",
     "output_type": "stream",
     "text": [
      "Enter string 1: radar\n",
      "Enter string 2: aardr\n",
      "String 1 is palindrome.\n",
      "The given strings are anagrams.\n"
     ]
    }
   ],
   "source": [
    "# Question 3:\n",
    "# Write a Python program to check if the given string is a Palindrome or Anagram or None of them.\n",
    "# Display the message accordingly to the user.\n",
    "\n",
    "s1 = input(\"Enter string 1: \")\n",
    "s2 = input(\"Enter string 2: \")\n",
    "a = s1[::-1]\n",
    "b = s2[::-1]\n",
    "if s1 == a:\n",
    "    print(\"String 1 is palindrome.\")\n",
    "if s2 == b:\n",
    "    print(\"String 2 is palindrome.\")\n",
    "if sorted(s1) == sorted(s2):\n",
    "    print(\"The given strings are anagrams.\")\n",
    "else:\n",
    "    print(\"The given strings aren't anagrams.\")"
   ]
  },
  {
   "cell_type": "code",
   "execution_count": 29,
   "metadata": {},
   "outputs": [
    {
     "name": "stdout",
     "output_type": "stream",
     "text": [
      "Enter a string: Dr. Darshan Ingle # @AI-ML Trainer\n",
      "Output:  drdarshaningleaimltrainer\n"
     ]
    }
   ],
   "source": [
    "# Question 4:\n",
    "# Write a Python's user defined function that removes all the additional characters from the string\n",
    "# and converts it finally to lower case using built-in lower(). eg: If the string is \"Dr. Darshan Ingle\n",
    "# @AI-ML Trainer\", then the output be \"drdarshaningleaimltrainer\".\n",
    "\n",
    "a = ''\n",
    "string = input(\"Enter a string: \")\n",
    "for i in str:\n",
    "    if not i.isalpha() and not i.isdigit():\n",
    "        i = ''\n",
    "    a = a + i\n",
    "print(\"Output: \",a.lower())"
   ]
  }
 ],
 "metadata": {
  "kernelspec": {
   "display_name": "Python 3",
   "language": "python",
   "name": "python3"
  },
  "language_info": {
   "codemirror_mode": {
    "name": "ipython",
    "version": 3
   },
   "file_extension": ".py",
   "mimetype": "text/x-python",
   "name": "python",
   "nbconvert_exporter": "python",
   "pygments_lexer": "ipython3",
   "version": "3.7.4"
  }
 },
 "nbformat": 4,
 "nbformat_minor": 2
}
