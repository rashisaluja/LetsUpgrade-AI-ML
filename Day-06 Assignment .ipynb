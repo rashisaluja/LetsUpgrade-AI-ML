{
 "cells": [
  {
   "cell_type": "code",
   "execution_count": 10,
   "metadata": {},
   "outputs": [
    {
     "name": "stdout",
     "output_type": "stream",
     "text": [
      "Enter the email: vdngdgvkjgjhb@door.com\n",
      "door\n"
     ]
    }
   ],
   "source": [
    "# Question 1:\n",
    "# Assuming that we have some email addresses in the \"username@companyname.com\" format, please write program\n",
    "# to print the company name of a given email address. Both user names and company names are composed of letters\n",
    "# only.\n",
    "\n",
    "str1 = input(\"Enter the email: \")\n",
    "for i in range(len(str1)):\n",
    "    if str1[i]=='@':\n",
    "        start = i\n",
    "    if str1[i]=='.':\n",
    "        stop = i\n",
    "a = str1[start+1:stop]\n",
    "print(a)\n"
   ]
  },
  {
   "cell_type": "code",
   "execution_count": 17,
   "metadata": {},
   "outputs": [
    {
     "name": "stdout",
     "output_type": "stream",
     "text": [
      "Enter the words: hi,are,you,so\n",
      "are,hi,so,you\n"
     ]
    }
   ],
   "source": [
    "# Question 2:\n",
    "# Write a program that accepts a comma-separated sequence of words as input and prints the words in a comma\n",
    "# separated sequence after sorting them alphabetically.\n",
    "\n",
    "str2 = input(\"Enter the words: \")\n",
    "a = str2.split(',')\n",
    "a.sort()\n",
    "for i in range(len(a)):\n",
    "    if i == len(a)-1:\n",
    "        print(a[i])\n",
    "        break\n",
    "    print(a[i],end = ',')\n"
   ]
  },
  {
   "cell_type": "markdown",
   "metadata": {},
   "source": [
    "# Question 3 : Sets\n",
    "A set is an unordered collection of items. Every set element is unique (no duplicates) and must be immutable (cannot be changed).\n",
    "\n",
    "However, a set itself is mutable. We can add or remove items from it.\n",
    "\n",
    "Sets can also be used to perform mathematical set operations like union, intersection, symmetric difference, etc."
   ]
  },
  {
   "cell_type": "code",
   "execution_count": 35,
   "metadata": {},
   "outputs": [
    {
     "name": "stdout",
     "output_type": "stream",
     "text": [
      "{1, 2, 5, 7}\n"
     ]
    }
   ],
   "source": [
    "# Creating a set\n",
    "s = {1,5,7,2}\n",
    "print(s)"
   ]
  },
  {
   "cell_type": "code",
   "execution_count": null,
   "metadata": {},
   "outputs": [],
   "source": [
    "# Accessing the elements of sets\n",
    "for i in s:\n",
    "    print(i)"
   ]
  },
  {
   "cell_type": "code",
   "execution_count": 40,
   "metadata": {},
   "outputs": [
    {
     "name": "stdout",
     "output_type": "stream",
     "text": [
      "{1, 2, 5, 7, 8}\n",
      "5\n"
     ]
    }
   ],
   "source": [
    "# add elements\n",
    "s.add(8)\n",
    "print(s)\n",
    "# finding the length of a set\n",
    "print(len(s))"
   ]
  },
  {
   "cell_type": "code",
   "execution_count": 41,
   "metadata": {},
   "outputs": [
    {
     "data": {
      "text/plain": [
       "{1, 2, 5, 7}"
      ]
     },
     "execution_count": 41,
     "metadata": {},
     "output_type": "execute_result"
    }
   ],
   "source": [
    "# removing elements\n",
    "s.remove(8)\n",
    "s"
   ]
  },
  {
   "cell_type": "code",
   "execution_count": 42,
   "metadata": {},
   "outputs": [],
   "source": [
    "# deleting a set\n",
    "del s"
   ]
  },
  {
   "cell_type": "code",
   "execution_count": 43,
   "metadata": {},
   "outputs": [
    {
     "data": {
      "text/plain": [
       "{1, 2, 3, 4, 5, 6}"
      ]
     },
     "execution_count": 43,
     "metadata": {},
     "output_type": "execute_result"
    }
   ],
   "source": [
    "# union of set \n",
    "a = {1,3,5}\n",
    "b = {2,4,6}\n",
    "c = a.union(b)\n",
    "c"
   ]
  },
  {
   "cell_type": "code",
   "execution_count": 25,
   "metadata": {},
   "outputs": [
    {
     "name": "stdout",
     "output_type": "stream",
     "text": [
      "Enter the numbers: 16 18 20 17\n",
      "Output:  19\n"
     ]
    }
   ],
   "source": [
    "# Question 4:\n",
    "# Given a list of n-1 numbers ranging from 1 to n, your task is to find the missing number. There are no duplicates.\n",
    "\n",
    "li = input(\"Enter the numbers: \")\n",
    "l = li.split(' ')\n",
    "l.sort()\n",
    "for i in range(len(l)-1):\n",
    "    if int(l[i]) != int(l[i+1])-1:\n",
    "        print(\"Output: \",int(l[i+1])-1)\n"
   ]
  },
  {
   "cell_type": "code",
   "execution_count": 33,
   "metadata": {},
   "outputs": [
    {
     "name": "stdout",
     "output_type": "stream",
     "text": [
      "Enter the numbers: 12 45 13 12 45 67\n",
      "12 45 13 67\n"
     ]
    }
   ],
   "source": [
    "# Question 5:\n",
    "# With a given list L, write a program to print this list L after removing all duplicate values with original order reserved.\n",
    "\n",
    "li = input(\"Enter the numbers: \")\n",
    "l = li.split(' ')\n",
    "a = []\n",
    "for i in l:\n",
    "    if i not in a:\n",
    "        a.append(i)\n",
    "for i in range(len(a)):\n",
    "    if i == len(a)-1:\n",
    "        print(a[i])\n",
    "        break\n",
    "    print(a[i],end = ' ')"
   ]
  }
 ],
 "metadata": {
  "kernelspec": {
   "display_name": "Python 3",
   "language": "python",
   "name": "python3"
  },
  "language_info": {
   "codemirror_mode": {
    "name": "ipython",
    "version": 3
   },
   "file_extension": ".py",
   "mimetype": "text/x-python",
   "name": "python",
   "nbconvert_exporter": "python",
   "pygments_lexer": "ipython3",
   "version": "3.7.4"
  }
 },
 "nbformat": 4,
 "nbformat_minor": 2
}
