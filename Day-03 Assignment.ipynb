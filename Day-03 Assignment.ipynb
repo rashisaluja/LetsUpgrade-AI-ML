{
 "cells": [
  {
   "cell_type": "code",
   "execution_count": 16,
   "metadata": {},
   "outputs": [
    {
     "name": "stdout",
     "output_type": "stream",
     "text": [
      "Subtraction of  (1+1j)  and  (2+9j)  is:  (-1-8j)\n"
     ]
    }
   ],
   "source": [
    "# Question 1 :\n",
    "# Write a program to subtract two complex numbers in Python.\n",
    "\n",
    "a = complex(1,1)\n",
    "b = complex(2,9)\n",
    "print(\"Subtraction of \",a,\" and \" ,b,\" is: \",a-b)"
   ]
  },
  {
   "cell_type": "code",
   "execution_count": 4,
   "metadata": {},
   "outputs": [
    {
     "name": "stdout",
     "output_type": "stream",
     "text": [
      "The fourth root of  16  is:  2.0\n"
     ]
    }
   ],
   "source": [
    "# Question 2 :\n",
    "# Write a program to find the fourth root of a number.\n",
    "\n",
    "a = 16\n",
    "print(\"The fourth root of \",a,\" is: \",a**(1/4))"
   ]
  },
  {
   "cell_type": "code",
   "execution_count": 5,
   "metadata": {},
   "outputs": [
    {
     "name": "stdout",
     "output_type": "stream",
     "text": [
      "2\n",
      "1\n"
     ]
    }
   ],
   "source": [
    "# Question 3:\n",
    "# Write a program to swap two numbers in Python with the help of a temporary variable.\n",
    "\n",
    "a = 1\n",
    "b = 2\n",
    "#swapping\n",
    "c = a\n",
    "a = b\n",
    "b = c\n",
    "print(a)\n",
    "print(b)"
   ]
  },
  {
   "cell_type": "code",
   "execution_count": 19,
   "metadata": {},
   "outputs": [
    {
     "name": "stdout",
     "output_type": "stream",
     "text": [
      "2\n",
      "1\n"
     ]
    }
   ],
   "source": [
    "# Question 4:\n",
    "# Write a program to swap two numbers in Python without using a temporary variable.\n",
    "\n",
    "a = 1\n",
    "b = 2\n",
    "a,b = b,a\n",
    "print(a)\n",
    "print(b)\n"
   ]
  },
  {
   "cell_type": "code",
   "execution_count": 7,
   "metadata": {},
   "outputs": [
    {
     "name": "stdout",
     "output_type": "stream",
     "text": [
      "Celsius:  0.0\n",
      "Kelvin:  273.15\n"
     ]
    }
   ],
   "source": [
    "# Question 5:\n",
    "# Write a program to convert fahrenheit to kelvin and celsius both.\n",
    "\n",
    "f = 32\n",
    "c = (f-32) * 5/9\n",
    "k = (f-32) * 5/9 + 273.15\n",
    "print(\"Celsius: \",c)\n",
    "print(\"Kelvin: \",k)"
   ]
  },
  {
   "cell_type": "code",
   "execution_count": 17,
   "metadata": {},
   "outputs": [
    {
     "name": "stdout",
     "output_type": "stream",
     "text": [
      "10  is  <class 'int'>\n",
      "10.34  is  <class 'float'>\n",
      "(2+3j)  is  <class 'complex'>\n",
      "'a'  is  <class 'str'>\n",
      "True  is  <class 'bool'>\n"
     ]
    }
   ],
   "source": [
    "# Question 6:\n",
    "# Write a program to demonstrate all the available data types in Python. Hint: Use type() function.\n",
    "\n",
    "a = 10\n",
    "print(a,\" is \",type(a))\n",
    "a = 10 + 0.34\n",
    "print(a,\" is \",type(a))\n",
    "a = 2+3j\n",
    "print(a,\" is \",type(a))\n",
    "a = '\\'a\\''\n",
    "print(a,\" is \",type(a))\n",
    "a = True\n",
    "print(a,\" is \",type(a))"
   ]
  },
  {
   "cell_type": "markdown",
   "metadata": {},
   "source": [
    "# Question 7:\n",
    "\n",
    "\n",
    "Create a Markdown cell in jupyter and list the steps discussed in the session by Dr. Darshan\n",
    "Ingle sir to create Github profile and upload Githubs Assignment link.\n",
    "\n",
    "\n",
    "Step 1 : Create your Github account just like a gmail account.\n",
    "\n",
    "Step 2 : Create a repository with the name 'LetsUpgrade AI-ML'. (Remember: the repository should be public)\n",
    "\n",
    "Step 3 : Upload your .ipynb file in the repository with the name of the day, ex:Day-03.\n",
    "\n"
   ]
  }
 ],
 "metadata": {
  "kernelspec": {
   "display_name": "Python 3",
   "language": "python",
   "name": "python3"
  },
  "language_info": {
   "codemirror_mode": {
    "name": "ipython",
    "version": 3
   },
   "file_extension": ".py",
   "mimetype": "text/x-python",
   "name": "python",
   "nbconvert_exporter": "python",
   "pygments_lexer": "ipython3",
   "version": "3.7.4"
  }
 },
 "nbformat": 4,
 "nbformat_minor": 2
}
